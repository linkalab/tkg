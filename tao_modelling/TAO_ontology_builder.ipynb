{
 "cells": [
  {
   "cell_type": "markdown",
   "id": "6c51803a-38ba-47bf-affd-af7654624700",
   "metadata": {},
   "source": [
    "# TAO ontology builder"
   ]
  },
  {
   "cell_type": "markdown",
   "id": "c4c43111-adb4-4547-b458-5491da3b703d",
   "metadata": {},
   "source": [
    "### Environment setup"
   ]
  },
  {
   "cell_type": "code",
   "execution_count": 2,
   "id": "d71392e4",
   "metadata": {
    "scrolled": true
   },
   "outputs": [
    {
     "name": "stderr",
     "output_type": "stream",
     "text": [
      "* Owlready2 * Warning: optimized Cython parser module 'owlready2_optimized' is not available, defaulting to slower Python implementation\n"
     ]
    }
   ],
   "source": [
    "from owlready2 import *\n",
    "world = World()\n",
    "world.set_backend(filename = \"./world_file.sqlite3\", exclusive = False) ##use concurrently"
   ]
  },
  {
   "cell_type": "code",
   "execution_count": 3,
   "id": "d706ce2c-329e-47fb-b96e-02a8dd676c28",
   "metadata": {},
   "outputs": [],
   "source": [
    "import logging\n",
    "logging.basicConfig( level=logging.ERROR)"
   ]
  },
  {
   "cell_type": "code",
   "execution_count": 5,
   "id": "e5cec8b7-3791-4995-8f02-5b668b4bf8ed",
   "metadata": {},
   "outputs": [],
   "source": [
    "from lib.helpers import duplicate_class_hyerarchy, base_class, base_class_merge, annotation_copier, TaoBuilder \n",
    "from lib.helpers import provenance_annotator, apply_generic_properties, generate_class_hierarchy\n",
    "from lib.helpers import disjoin_class_hyerarchy, create_external_resource, labeller_by_class_name"
   ]
  },
  {
   "cell_type": "code",
   "execution_count": 7,
   "id": "d25abf8e",
   "metadata": {},
   "outputs": [],
   "source": [
    "import pandas as pd"
   ]
  },
  {
   "cell_type": "code",
   "execution_count": 8,
   "id": "161a3b75",
   "metadata": {},
   "outputs": [],
   "source": [
    "import re"
   ]
  },
  {
   "cell_type": "code",
   "execution_count": 9,
   "id": "cc7f4315",
   "metadata": {},
   "outputs": [],
   "source": [
    "onto_path.append(\"./\")"
   ]
  },
  {
   "cell_type": "code",
   "execution_count": 10,
   "id": "85418418",
   "metadata": {},
   "outputs": [
    {
     "name": "stderr",
     "output_type": "stream",
     "text": [
      "* Owlready2 * WARNING: DataProperty https://www.geonames.org/ontology#alternateName belongs to more than one entity types: [owl.AnnotationProperty, owl.DatatypeProperty, skos.altLabel]; I'm trying to fix it...\n",
      "* Owlready2 * WARNING: DataProperty https://www.geonames.org/ontology#officialName belongs to more than one entity types: [owl.AnnotationProperty, owl.DatatypeProperty, skos.prefLabel]; I'm trying to fix it...\n",
      "* Owlready2 * WARNING: AnnotationProperty http://schema.org/disambiguatingDescription belongs to more than one entity types: [owl.AnnotationProperty, schema.org.description]; I'm trying to fix it...\n",
      "* Owlready2 * WARNING: AnnotationProperty http://schema.org/layoutImage belongs to more than one entity types: [owl.AnnotationProperty, schema.org.image]; I'm trying to fix it...\n",
      "* Owlready2 * WARNING: AnnotationProperty http://schema.org/logo belongs to more than one entity types: [owl.AnnotationProperty, schema.org.image]; I'm trying to fix it...\n",
      "* Owlready2 * WARNING: AnnotationProperty http://schema.org/photo belongs to more than one entity types: [owl.AnnotationProperty, schema.org.image]; I'm trying to fix it...\n",
      "* Owlready2 * WARNING: AnnotationProperty http://purl.org/dc/terms/bibliographicCitation belongs to more than one entity types: [owl.AnnotationProperty, terms.identifier]; I'm trying to fix it...\n"
     ]
    }
   ],
   "source": [
    "#skos_file = 'http://www.w3.org/2004/02/skos/core' \n",
    "skos_file = './ontologies/skos.rdf' \n",
    "skos_ontology = world.get_ontology(skos_file).load()\n",
    "#skos = skos_ontology.get_namespace(\"http://www.w3.org/2004/02/skos/core#\")\n",
    "skos = skos_ontology.get_namespace(\"http://www.w3.org/2004/02/skos/core#\")\n",
    "\n",
    "## DBpedia namespaces\n",
    "dbr = world.get_ontology(\"http://dbpedia.org/resource/\")\n",
    "dbo = world.get_namespace(\"http://dbpedia.org/ontology/\")\n",
    "\n",
    "## Wikipedia namespace\n",
    "wiki = world.get_namespace(\"http://en.wikipedia.org/wiki/\")\n",
    "\n",
    "## Geonames namespace\n",
    "gn_ontology = world.get_ontology(\"./ontologies/geonames_ontology_v3.2.rdf\").load()\n",
    "gn = gn_ontology.get_namespace(\"https://www.geonames.org/ontology\")\n",
    "\n",
    "## GoodRelations namespace\n",
    "gr_ontology = world.get_ontology(\"./ontologies/GoodRelations.rdf\").load()\n",
    "#gr_ontology = world.get_ontology(\"http://purl.org/goodrelations/v1#\").load()\n",
    "gr = gr_ontology.get_namespace(\"http://purl.org/goodrelations/v1#\")\n",
    "\n",
    "acco_ontology = world.get_ontology(\"./ontologies/acco.rdf\").load()\n",
    "acco = acco_ontology.get_namespace(\"http://purl.org/acco/ns#\")\n",
    "\n",
    "hontology = world.get_ontology(\"./ontologies/hontology.rdf\").load()\n",
    "ho = hontology.get_namespace(\"http://ontolp.inf.pucrs.br/Recursos/downloads-Hontology.php#\")\n",
    "#ho = hontology.get_namespace(\"http://www.semanticweb.org/ontologies/2010/3/hotel-15072010.owl#\")\n",
    "\n",
    "\n",
    "schema_ontology = world.get_ontology(\"./ontologies/schema.rdf\").load()\n",
    "#schema_ontology = world.get_ontology(\"./ontologies/schemaorg.owl\").load()\n",
    "#schema_ontology = world.get_ontology(\"./ontologies/schemaorg_http.owl\").load()\n",
    "schema = schema_ontology.get_namespace(\"http://schema.org/\")\n",
    "\n",
    "dcterms = world.get_ontology(\"http://purl.org/dc/terms/\").load()\n",
    "dct = dcterms.get_namespace(\"http://purl.org/dc/terms/\")\n",
    "\n",
    "#geonames_mappings = world.get_ontology(\"https://www.geonames.org/ontology/mappings_v3.01.rdf\").load()\n",
    "\n",
    "tao_ontology = world.get_ontology(\"./ontologies/tao_base.rdf\").load()\n",
    "#tao_ontology = world.get_ontology(\"http://purl.org/tao_solo/ns#\")\n",
    "tao_solo = tao_ontology.get_namespace(\"http://purl.org/tao/ns#\")\n",
    "#schema_tao = tao_ontology.get_namespace(\"http://schema.org/\")"
   ]
  },
  {
   "cell_type": "code",
   "execution_count": 11,
   "id": "444a494d",
   "metadata": {},
   "outputs": [],
   "source": [
    "acco.value.python_name = \"acco_value\"\n",
    "gr.__getitem__('name').python_name = \"gr_name\"\n",
    "#skos.__getitem__('altLabel').python_name = \"skos_altLabel\"\n",
    "#skos.__getitem__('exactMatch').python_name = \"skos_exactMatch\"\n",
    "\n",
    "\n",
    "### Note; skos:altLabel, skos:prefLabel, skos:related are declared in the tao base rdf file\n",
    "### I couldn't use them with the python_name technique"
   ]
  },
  {
   "cell_type": "code",
   "execution_count": 12,
   "id": "a6c620e1-809b-47b0-8181-e6a638809e57",
   "metadata": {},
   "outputs": [],
   "source": [
    "tao_builder = TaoBuilder(world)"
   ]
  },
  {
   "cell_type": "code",
   "execution_count": null,
   "id": "e0a79502-c687-4243-b22e-c5d39056170d",
   "metadata": {},
   "outputs": [],
   "source": []
  },
  {
   "cell_type": "markdown",
   "id": "49c44845-b04b-495d-a41f-836e12344436",
   "metadata": {},
   "source": [
    "### SeeAlso wrapper\n",
    "We define a new class wrapper that add a rdfs.seeAlso property to connect the imported class to the original one."
   ]
  },
  {
   "cell_type": "code",
   "execution_count": 13,
   "id": "d1d52c79-d381-45fd-9b9a-357ccd97dfea",
   "metadata": {},
   "outputs": [],
   "source": [
    "def seeAlso_wrapper(owl_class, ancestor, namespace, copy = True):\n",
    "    text_comment = \"\" \n",
    "    return apply_generic_properties(owl_class, ancestor, namespace, copy, rdfs.seeAlso, text_comment) ## disabilitiamo i commenti alle proprietà\n",
    "\n",
    "def seeAlso_merger_wrapper(owl_class, ancestor, namespace, copy = True):\n",
    "    text_comment = \"\" \n",
    "    return apply_generic_properties(owl_class, ancestor, namespace, copy, rdfs.seeAlso, text_comment, class_builder=base_class_merge) ## disabilitiamo i commenti alle proprietà\n"
   ]
  },
  {
   "cell_type": "markdown",
   "id": "a2d67998-8018-45b7-93b9-44a4d4eab8d6",
   "metadata": {},
   "source": [
    "# Tourist Locations"
   ]
  },
  {
   "cell_type": "markdown",
   "id": "12a69b93-fe13-4792-b776-8cbfb0dbbf75",
   "metadata": {},
   "source": [
    "### Create tao:TouristLocation class\n",
    "We create a TouristLocation class as the root of a class hierarchy that models places interesting from a tourist point of view."
   ]
  },
  {
   "cell_type": "code",
   "execution_count": 14,
   "id": "c1e56808",
   "metadata": {},
   "outputs": [],
   "source": [
    "with tao_solo:\n",
    "    class TouristLocation(schema.Place, gn.Feature):\n",
    "        label = [locstr(\"Tourist location\", lang = \"en\")]\n",
    "        comment = \"\"\"A location is a point or area of interest from a tourist point of view, which a particular product or service is available, e.g. a museum, a beach, a bus stop, a gas station, or a ticket booth. The difference to gr:BusinessEntity is that the gr:BusinessEntity is the legal entity (e.g. a person or corporation) making the offer, while tao:Location is the store, office, or place. A chain restaurant will e.g. have one legal entity but multiple restaurant locations. Locations are characterized by an address or geographical position and a set of opening hour specifications for various days of the week.\"\"\"\n",
    "        altLabel = [locstr(\"Point of interest\", lang = \"en\"), locstr(\"Area of interest\", lang = \"en\"), locstr(\"Location\", lang = \"en\")]\n",
    "        seeAlso = gr.Location\n",
    "    \n",
    "    class TouristDestination(gn.Feature):\n",
    "        label = [locstr(\"Tourist destination\", lang = \"en\")]\n",
    "        comment = \"\"\"A tourist destination. A TouristDestination is defined as a Place that contains, or is colocated with, one or more TouristLocation and LodgingFacility, often linked by a similar theme or interest to a particular tourist audience. The [UNWTO](http://www2.unwto.org/) defines Destination (main destination of a tourism trip) as the place visited that is central to the decision to take the trip.\"\"\"\n",
    "        equivalent_to = [schema.TouristDestination]\n",
    "        "
   ]
  },
  {
   "cell_type": "markdown",
   "id": "4b146338-13de-4011-a32e-08735057b966",
   "metadata": {},
   "source": [
    "### Import subclasses of schema:Place\n",
    "We now import subclasses of schema:Place class as subclasses of tao:TouristLocation in TAO ontology."
   ]
  },
  {
   "cell_type": "code",
   "execution_count": 15,
   "id": "01adf06d",
   "metadata": {
    "tags": []
   },
   "outputs": [],
   "source": [
    "schema_places_classes = {}\n",
    "exclude_classes = [\n",
    "    schema.Accommodation, acco.Accommodation, tao_solo.LodgingFacility, schema.LodgingBusiness,\n",
    "    schema.AnimalShelter, schema.ArchiveOrganization,\n",
    "    schema.AutoBodyShop,schema.AutoDealer,schema.AutoPartsStore, schema.AutomotiveBusiness, schema.MotorcycleDealer, schema.Campground,\n",
    "    schema.ChildCare, schema.EmploymentAgency, schema.FinancialService, schema.HomeAndConstructionBusiness, schema.LegalService, \n",
    "    schema.MedicalBusiness, schema.ProfessionalService, schema.RadioStation, schema.RealEstateAgent, schema.RecyclingCenter, schema.SelfStorage, \n",
    "    schema.AutoPartsStore, schema.BikeStore, schema.FurnitureStore, schema.GardenStore, schema.HardwareStore, schema.HomeGoodsStore, \n",
    "    schema.MovieRentalStore, schema.OfficeEquipmentStore, schema.PawnShop, schema.PetStore, schema.TireShop, schema.WholesaleStore,\n",
    "    schema.TelevisionStation, schema.Residence,\n",
    "    schema.TouristDestination, ## We define our Tourist destination class\n",
    "    tao_solo.TouristLocation ## avoid cyclic reference\n",
    "] ## We do not take schema.Accommodations as TouristLocations and remove tao:Accommodation to prevent loops\n",
    "duplicate_class_hyerarchy(schema.Place, schema_places_classes, tao_solo.TouristLocation,\n",
    "                          class_wrapper=seeAlso_merger_wrapper, \n",
    "                          marshallers = [annotation_copier, labeller_by_class_name, provenance_annotator], \n",
    "                          disjoint=False, namespace = tao_solo, copy = True, exclude = exclude_classes)"
   ]
  },
  {
   "cell_type": "code",
   "execution_count": 16,
   "id": "45becb89-2dcf-4e33-be89-f7780d48bf02",
   "metadata": {
    "tags": []
   },
   "outputs": [],
   "source": [
    "exclude_from_exploration = [\n",
    "    tao_solo.LocalBusiness\n",
    "]\n",
    "\n",
    "disjoin_config = {\n",
    "    \"*\": [ #remove from disjoint Axioms in any case\n",
    "        tao_solo.TouristAttraction,\n",
    "        tao_solo.TouristDestination,\n",
    "        tao_solo.EducationalOrganization,\n",
    "        tao_solo.GovernmentBuilding,\n",
    "        tao_solo.EventVenue,\n",
    "        tao_solo.MusicVenue\n",
    "    ],\n",
    "    \"do_not_disjoin\": [\n",
    "        (tao_solo.CivicStructure,tao_solo.LandmarksOrHistoricalBuildings, tao_solo.LocalBusiness),\n",
    "        #(tao_solo.TaxiStand, tao_solo.TrainStation),\n",
    "        (tao_solo.TrainStation, tao_solo.BusStation, tao_solo.SubwayStation),\n",
    "        (tao_solo.MovieTheater, tao_solo.Museum, tao_solo.PerformingArtsTheater, tao_solo.StadiumOrArena)\n",
    "    ]\n",
    "}\n",
    "disjoin_class_hyerarchy(tao_solo.TouristLocation, namespace = tao_solo, exclude_disjoint = disjoin_config, exclude = exclude_from_exploration)\n",
    "#disjoin_class_hyerarchy(tao_solo.CivicStructure, namespace = tao_solo, exclude_disjoint = disjoin_config, exclude = exclude_from_exploration)"
   ]
  },
  {
   "cell_type": "markdown",
   "id": "92c89464-ee36-4c84-8550-0383342b1cb1",
   "metadata": {},
   "source": [
    "# Lodging Facilities"
   ]
  },
  {
   "cell_type": "markdown",
   "id": "49c14f03-e6aa-461c-ab2d-f638529895c4",
   "metadata": {},
   "source": [
    "### Create TAO base classes"
   ]
  },
  {
   "cell_type": "code",
   "execution_count": 17,
   "id": "84f9a4d2-7990-4b13-82f1-7d3cd4143609",
   "metadata": {},
   "outputs": [],
   "source": [
    "with tao_solo:\n",
    "    class Hotel(tao_solo.LodgingFacility):\n",
    "        ### partially defined in the base owl file for the ontology\n",
    "        label = [locstr(\"Hotel\", lang = \"en\")]\n",
    "        altLabel = [locstr(\"Boutique hotel\", lang = \"en\")]  \n",
    "        comment = locstr(\"\"\"A hotel is an establishment that provides lodging paid on a short-term basis. \n",
    "        (Source: Wikipedia, the free encyclopedia, see http://en.wikipedia.org/wiki/Hotel)\"\"\", lang = \"en\")\n",
    "        seeAlso = [ schema.Hotel, create_external_resource(\"Hotel\", dbr)] ## in this way the DBPedia resource is linked\n",
    "    \n",
    "    class Campground(tao_solo.LodgingFacility):\n",
    "        label = [locstr(\"Campground\", lang = \"en\")]\n",
    "        altLabel = [locstr(\"Campsite\", lang = \"en\")]  \n",
    "        comment = locstr(\"\"\"The term camp comes from the Latin word campus, meaning \"field\". \n",
    "        Therefore, a campground consists typically of open pieces of ground where a camper can pitch a tent or park a camper.\n",
    "        More specifically a campsite is a dedicated area set aside for camping and for which often a user fee is charged. \n",
    "        (Source: Wikipedia, the free encyclopedia, see http://en.wikipedia.org/wiki/Campground)\"\"\", lang = \"en\")\n",
    "        seeAlso = [ create_external_resource(\"Campsite\", dbr), create_external_resource(\"Campground\", dbr)]\n",
    "    \n",
    "    class Loft(tao_solo.LodgingFacility):\n",
    "        label = [locstr(\"Loft\", lang = \"en\")]\n",
    "        comment = locstr(\"\"\"A loft is a building's upper storey or elevated area in a room directly under the roof (American usage), or just an attic: a storage space under the roof usually accessed by a ladder (primarily British usage).\n",
    "        A loft apartment refers to large adaptable open space, often converted for residential use (a converted loft) from some other use, often light industrial.\n",
    "        Adding to the confusion, some converted lofts include upper open loft areas. \n",
    "        (Source: Wikipedia, the free encyclopedia, see http://en.wikipedia.org/wiki/Loft)\"\"\", lang = \"en\")\n",
    "        seeAlso = [ create_external_resource(\"Loft\", dbr)]\n",
    "       \n",
    "    class Apartment(tao_solo.LodgingFacility):\n",
    "        label = [locstr(\"Apartment\", lang = \"en\")]\n",
    "        altLabel = [locstr(\"Condo\", lang = \"en\"), locstr(\"Apartments\", lang = \"en\"), locstr(\"Flat\", lang = \"en\"), locstr(\"Condominium\", lang = \"en\")]  \n",
    "        comment = locstr(\"\"\"An apartment (American English), or flat (British English, Indian English, South African English), is a self-contained housing unit (a type of residential real estate) that occupies part of a building, generally on a single story.\n",
    "        (Source: Wikipedia, the free encyclopedia, see https://en.wikipedia.org/wiki/Apartment) \"\"\", lang = \"en\")\n",
    "        seeAlso = [create_external_resource(\"Apartment\", dbr), schema.Apartment]\n",
    "    \n",
    "    class Aparthotel(tao_solo.Hotel, tao_solo.Apartment):\n",
    "        label = [locstr(\"Aparthotel\", lang = \"en\")]\n",
    "        altLabel = [locstr(\"Condo hotel\", lang = \"en\"), \n",
    "                    locstr(\"Serviced apartments\", lang = \"en\"),\n",
    "                    locstr(\"Serviced apartment\", lang = \"en\"),\n",
    "                    locstr(\"Apartment hotel\", lang = \"en\")]\n",
    "        comment = locstr(\"\"\"An apartment hotel or aparthotel (also residential hotel, or extended-stay hotel) is a serviced apartment complex that uses a hotel-style booking system. \n",
    "        It is similar to renting an apartment, but with no fixed contracts and occupants can \"check out\" whenever they wish.\n",
    "        (Source: Wikipedia, the free encyclopedia, see https://en.wikipedia.org/wiki/Apartment_hotel)\"\"\", lang = \"en\")\n",
    "        seeAlso = create_external_resource(\"Aparthotel\", dbr)\n",
    "        \n",
    "    class House(tao_solo.LodgingFacility):\n",
    "        label = [locstr(\"House\", lang = \"en\")] \n",
    "        altLabel = [locstr(\"Cottage\", lang = \"en\"), locstr(\"Townhouse\", lang = \"en\"), \n",
    "                    locstr(\"Earth house\", lang = \"en\"), locstr(\"Tiny house\", lang = \"en\")]\n",
    "        comment = locstr(\"\"\"A house is a building or structure that has the ability to be occupied for habitation by humans or other creatures. \n",
    "        (Source: Wikipedia, the free encyclopedia, see http://en.wikipedia.org/wiki/House)\"\"\", lang = \"en\")\n",
    "        seeAlso = [schema.House, create_external_resource(\"House\",dbr)]\n",
    "    \n",
    "    class CountryHouseHotel(tao_solo.Hotel)  :\n",
    "        label = [locstr(\"Country house hotel\", lang = \"en\")]\n",
    "        altLabel = [\n",
    "            locstr(\"Country house\", lang = \"en\"),\n",
    "            locstr(\"Country houses\", lang = \"en\")]\n",
    "        comment = locstr(\"\"\"Country House Hotel, is a hotel located in the country side, which appears more as a home than as a hotel. \n",
    "        Country house hotels thereby differentiate themselves from ordinary hotels by providing a more local and intimate experience.\n",
    "        (Source: XOTELS, the free encyclopedia, see https://www.xotels.com/en/glossary/country-house-hotel)\"\"\", lang = \"en\")\n",
    "    \n",
    "    class GuestHouse(tao_solo.House):\n",
    "        label = [locstr(\"Guest house\", lang = \"en\")]\n",
    "        altLabel = [locstr(\"Guesthouse\", lang = \"en\"), locstr(\"Homestay\", lang = \"en\")]      \n",
    "        comment = locstr(\"\"\"A guest house (also guesthouse) is a kind of lodging. In some parts of the world, guest houses are a type of inexpensive hotel-like lodging.\n",
    "        (Source: Wikipedia, the free encyclopedia, see https://en.wikipedia.org/wiki/Guest_house)\"\"\", lang = \"en\")\n",
    "        seeAlso = create_external_resource(\"Guest_house\", dbr)\n",
    "\n",
    "    class Bungalow(tao_solo.House):\n",
    "        label = [locstr(\"Bungalow\", lang = \"en\")]   \n",
    "        comment = locstr(\"\"\"A bungalow is a small house or cottage that is either single-story or has a second story built into a sloping roof (usually with dormer windows), and may be surrounded by wide verandas.\n",
    "        (Source: Wikipedia, the free encyclopedia, see https://en.wikipedia.org/wiki/Houseboat)\"\"\", lang = \"en\")        \n",
    "        seeAlso = create_external_resource(\"Bungalow\", dbr)\n",
    "        \n",
    "    class HolidayHome(tao_solo.House):\n",
    "        label = [locstr(\"Holiday home\", lang = \"en\")]\n",
    "        altLabel = [locstr(\"Vacation Home\", lang = \"en\"),\n",
    "            locstr(\"Vacation House\", lang = \"en\"),\n",
    "            locstr(\"Vacation Homes\", lang = \"en\"),\n",
    "            locstr(\"Holiday Homes\", lang = \"en\")]\n",
    "        comment = locstr(\"\"\"A vacation rental is the renting out of a furnished apartment, house, or professionally managed resort-condominium complex on a temporary basis to tourists as an alternative to a hotel. \n",
    "        The term vacation rental is mainly used in the US. In Europe the term villa rental or villa holiday is preferred for rentals of detached houses in warm climates. \n",
    "        Other terms used are self-catering rentals, holiday homes, holiday lets (in the United Kingdom), cottage holidays (for rentals of smaller accommodation in rural locations) and gites (in rural locations in France).\n",
    "        (Source: Wikipedia, the free encyclopedia, see https://en.wikipedia.org/wiki/Vacation_rental and https://en.wikipedia.org/wiki/Holiday_cottage)\"\"\", lang = \"en\")\n",
    "        seeAlso = [create_external_resource(\"Vacation_rental\", dbr), create_external_resource(\"Holiday_cottage\", dbr)]\n",
    "    \n",
    "    class Villa(tao_solo.HolidayHome):\n",
    "        label = [locstr(\"Villa\", lang = \"en\")]\n",
    "        comment = locstr(\"\"\"Originally a type of house that was originally an ancient Roman upper-class country house.\n",
    "        Today indicates a particular kind of Holiday home which is often a high quality detached home in warm destinations.\n",
    "        (Source: Wikipedia, the free encyclopedia, see https://en.wikipedia.org/wiki/Vacation_rental and https://en.wikipedia.org/wiki/Villa)\"\"\", lang = \"en\")\n",
    "        seeAlso = [create_external_resource(\"Vacation_rental\", dbr), create_external_resource(\"Villa\", dbr)]\n",
    " \n",
    "    class Boat(tao_solo.LodgingFacility):\n",
    "        label = [locstr(\"Boat\", lang = \"en\")]   \n",
    "        comment = locstr(\"\"\"A boat is a watercraft of a large range of types and sizes.\n",
    "        (Source: Wikipedia, the free encyclopedia, see https://en.wikipedia.org/wiki/Boat)\"\"\", lang = \"en\")\n",
    "        seeAlso = create_external_resource(\"Boat\", dbr)\n",
    "\n",
    "    class HouseBoat(tao_solo.Boat):\n",
    "        label = [locstr(\"House boat\", lang = \"en\")]\n",
    "        altLabel = [locstr(\"Houseboat\", lang = \"en\")]      \n",
    "        comment = locstr(\"\"\"A houseboat is a boat that has been designed or modified to be used primarily as a home.\n",
    "        (Source: Wikipedia, the free encyclopedia, see https://en.wikipedia.org/wiki/Houseboat)\"\"\", lang = \"en\")\n",
    "        seeAlso = create_external_resource(\"Houseboat\", dbr)\n",
    "\n",
    "    class Botel(tao_solo.Boat):\n",
    "        label = [locstr(\"Boat hotel\", lang = \"en\")]\n",
    "        altLabel = [locstr(\"Hotelship\", lang = \"en\"), locstr(\"Botel\", lang = \"en\")]      \n",
    "        comment = locstr(\"\"\"A hotelship is a passenger ship which is used for a short period as a hotel. \n",
    "        A botel or boatel is a boat that serves as a hotel or hostel curently there are few permanent hotel ships.\n",
    "        The word is a portmanteau of boat and hotel. (Source: Wikipedia, the free encyclopedia, see https://en.wikipedia.org/wiki/Boat_hotel)\"\"\", lang = \"en\")\n",
    "        seeAlso = create_external_resource(\"Boat_hotel\", dbr)\n",
    "        \n",
    "    class BedAndBreakfast(tao_solo.LodgingFacility):\n",
    "        label = [locstr(\"Bed and breakfast\", lang = \"en\")]\n",
    "        altLabel = [locstr(\"B&B\", lang = \"en\"), locstr(\"BnB\", lang = \"en\")]      \n",
    "        comment = locstr(\"\"\"A bed and breakfast (typically shortened to B&B or BnB) is a small lodging establishment that offers overnight accommodation and breakfast. \n",
    "        Bed and breakfasts are often private family homes and typically have between four and eleven rooms, with six being the average. \n",
    "        In addition, a B&B usually has the hosts living in the house. \n",
    "        (Source: Wikipedia, the free encyclopedia, see https://en.wikipedia.org/wiki/Bed_and_breakfast)\"\"\", lang = \"en\")\n",
    "        seeAlso = [schema.BedAndBreakfast, create_external_resource(\"Bed_and_breakfast\", dbr)]\n",
    "        \n",
    "    class Inn(tao_solo.LodgingFacility):\n",
    "        label = [locstr(\"Inn\", lang = \"en\")]\n",
    "        altLabel = [locstr(\"Locanda\", lang = \"it\")]         \n",
    "        comment = locstr(\"\"\"Inns are generally establishments or buildings where travelers can seek lodging, and usually, food and drink.\n",
    "        Inns are typically located in the country or along a highway.\n",
    "        (Source: Wikipedia, the free encyclopedia, see https://en.wikipedia.org/wiki/Inn)\"\"\", lang = \"en\")\n",
    "        seeAlso = create_external_resource(\"Inn\", dbr)\n",
    "  \n",
    "    class Motel(tao_solo.LodgingFacility):\n",
    "        label = [locstr(\"Motel\", lang = \"en\")]\n",
    "        altLabel = [locstr(\"Motel\", lang = \"it\")]         \n",
    "        comment = locstr(\"\"\"A motel, also known as a motor hotel or motor lodge, is a hotel designed for motorists, usually having each room entered directly from the parking area for motor vehicles rather than through a central lobby.\n",
    "        (Source: Wikipedia, the free encyclopedia, see https://en.wikipedia.org/wiki/Motel)\"\"\", lang = \"en\")\n",
    "        seeAlso = [schema.Motel, create_external_resource(\"Motel\", dbr)]\n",
    "    \n",
    "    class Pension(tao_solo.LodgingFacility):\n",
    "        label = [locstr(\"Pension\", lang = \"en\")]\n",
    "        altLabel = [locstr(\"Boarding house\", lang = \"en\")]\n",
    "        comment = locstr(\"\"\"A pension is a type of boarding house. A boarding house is a house (frequently a family home) in which lodgers rent one or more rooms on a nightly basis, and sometimes for extended periods of weeks, months, and years. \n",
    "        The common parts of the house are maintained, and some services, such as laundry and cleaning, may be supplied. \n",
    "        They normally provide \"room and board,\" that is, at least some meals as well as accommodation.\n",
    "        (Source: Wikipedia, the free encyclopedia, see https://en.wikipedia.org/wiki/Boarding_house and https://en.wikipedia.org/wiki/Pension_(lodging))\"\"\", lang = \"en\")\n",
    "        seeAlso = [create_external_resource(\"Boarding_house\", dbr), create_external_resource(\"Pension_(lodging)\", dbr)]\n",
    "    \n",
    "    class Riad(tao_solo.LodgingFacility):\n",
    "        label = [locstr(\"Riad\", lang = \"en\")]\n",
    "        comment = locstr(\"\"\"A riad is a type of traditional Moroccan and Andalusi interior garden or courtyard associated with house and palace architecture.\n",
    "        The term is nowadays often used in Morocco to refer to a hotel or guesthouse-style accommodation with shared common areas and private rooms, often within a restored traditional mansion.\n",
    "        (Source: Wikipedia, the free encyclopedia, see https://en.wikipedia.org/wiki/Riad_(architecture))\"\"\", lang = \"en\")\n",
    "        seeAlso = create_external_resource(\"Riad\", dbr)\n",
    "        \n",
    "    class Resort(tao_solo.LodgingFacility):\n",
    "        label = [locstr(\"Resort\", lang = \"en\")]\n",
    "        comment = locstr(\"\"\"A resort is a place used for relaxation or recreation, attracting visitors for holidays or vacations. Resorts are places, towns or sometimes commercial establishment operated by a single company.\n",
    "        (Source: Wikipedia, the free encyclopedia, see http://en.wikipedia.org/wiki/Resort)\"\"\", lang = \"en\")\n",
    "        seeAlso = create_external_resource(\"Resort\", dbr)        "
   ]
  },
  {
   "cell_type": "code",
   "execution_count": 18,
   "id": "2aca1578-7666-40a0-b8cc-d97acda0625a",
   "metadata": {},
   "outputs": [
    {
     "data": {
      "text/plain": [
       "[schema.BedAndBreakfast, resource.Bed_and_breakfast]"
      ]
     },
     "execution_count": 18,
     "metadata": {},
     "output_type": "execute_result"
    }
   ],
   "source": [
    "tao_solo.BedAndBreakfast.seeAlso"
   ]
  },
  {
   "cell_type": "markdown",
   "id": "c73e698a-d482-4da7-845e-da64dfc3924f",
   "metadata": {},
   "source": [
    "### Import subbclasses of Hontology Accommodation as tao:LodgingFacility subclasses\n",
    "We now import from Hontology some classes useful to model accommodations."
   ]
  },
  {
   "cell_type": "code",
   "execution_count": 19,
   "id": "c28bc54b",
   "metadata": {
    "scrolled": true,
    "tags": []
   },
   "outputs": [],
   "source": [
    "lodg_classes = {}\n",
    "exclude_classes = [ho.Apartment, ho.BungalowAndCamping, ho.GuestHouse, ho.HolidaySettlement, ho.OtherHospitality, ho.Botel] #Classes not useful or sufficiently clear\n",
    "duplicate_class_hyerarchy(ho.Accommodation, lodg_classes,  tao_solo.LodgingFacility, \n",
    "                          marshallers = [annotation_copier, labeller_by_class_name, provenance_annotator], \n",
    "                          namespace = tao_solo, exclude = exclude_classes)"
   ]
  },
  {
   "cell_type": "markdown",
   "id": "db747c7a-c6fc-4659-8183-63bc60cd9639",
   "metadata": {},
   "source": [
    "### Import subbclasses of schema:Accommodation as tao:LodgingFacility subclasses\n",
    "We now import from Schema.org some classes useful to model accommodations."
   ]
  },
  {
   "cell_type": "code",
   "execution_count": 20,
   "id": "f1a7a24e-7fdc-4f7d-b9c4-28c84bf0b2a8",
   "metadata": {
    "tags": []
   },
   "outputs": [],
   "source": [
    "lodg_classes = {}\n",
    "exclude_classes = [schema.CampingPitch, schema.Room, schema.Suite, schema.SingleFamilyResidence] #Classes not useful, out of scope or not sufficiently clear\n",
    "duplicate_class_hyerarchy(schema.Accommodation, lodg_classes,  tao_solo.LodgingFacility, \n",
    "                          class_wrapper = seeAlso_wrapper, namespace = tao_solo, exclude = exclude_classes)"
   ]
  },
  {
   "cell_type": "markdown",
   "id": "e687ba7c-b267-4497-989a-821f06dc917d",
   "metadata": {},
   "source": [
    "### Import subbclasses of schema:LodgingBusiness as tao:LodgingFacility subclasses\n",
    "We now import from Schema.org some classes useful to model accommodations."
   ]
  },
  {
   "cell_type": "code",
   "execution_count": 21,
   "id": "2ca82ce5-095c-4175-bca6-2f799eaba128",
   "metadata": {
    "tags": []
   },
   "outputs": [],
   "source": [
    "lodg_classes = {}\n",
    "\n",
    "exclude_classes = [schema.Campground] #Classes not useful, out of scope or not sufficiently clear\n",
    "duplicate_class_hyerarchy(schema.LodgingBusiness, lodg_classes,  tao_solo.LodgingFacility, \n",
    "                          class_wrapper = seeAlso_wrapper, namespace = tao_solo, exclude = exclude_classes)"
   ]
  },
  {
   "cell_type": "markdown",
   "id": "9d82b1e1-9179-4e6d-bb4a-2ce4bb864a68",
   "metadata": {},
   "source": [
    "# Accommodations"
   ]
  },
  {
   "cell_type": "code",
   "execution_count": 22,
   "id": "e8159197-e02d-4a56-bc8f-cf2f10b90656",
   "metadata": {},
   "outputs": [],
   "source": [
    "with tao_solo:\n",
    "    class Accommodation(acco.Accommodation):\n",
    "        ### partially defined in the base owl file for the ontology\n",
    "        label = [locstr(\"Accommodation\", lang = \"en\")]\n",
    "        comment = locstr(\"\"\"An accommodation is a place that can accommodate human beings, e.g. a hotel room, a camping pitch, or a meeting room.\n",
    "        Many accommodations are for overnight stays, but this is not a mandatory requirement.\n",
    "        An accommodation is always part of a LodgingFacility (e.g. an HotelRoom is part of an Hotel, an EntireApartment is the whole Apartment (LodgingFacility) used as an accommodation.)\"\"\", lang = \"en\")\n",
    "        seeAlso = [ schema.Accommodation ]\n",
    "    \n",
    "    class Room(tao_solo.Accommodation):\n",
    "        label = [locstr(\"Room\", lang = \"en\")]\n",
    "        comment = locstr(\"\"\"A room is a distinguishable space within a structure, usually separated from other spaces by interior walls.(Source: Wikipedia, the free encyclopedia, see http://en.wikipedia.org/wiki/Room).\"\"\", lang = \"en\")\n",
    "        seeAlso = [ schema.Room, create_external_resource(\"Room\", dbr)]\n",
    "\n",
    " \n",
    "    class SharedRoom(tao_solo.Room):\n",
    "        label = [locstr(\"Shared room\", lang = \"en\")]\n",
    "        comment = locstr(\"\"\"Shared rooms are for when you don't mind sharing a space with others. \n",
    "        When you book a shared room, you'll be sleeping in a space that is shared with others and share the entire space with other people. \n",
    "        Shared rooms are popular among flexible travelers looking for new friends and budget-friendly stays.\n",
    "        (Source: AirBnb, see https://www.airbnb.com/help/article/5/types-of-places-to-stay#section-heading-0-3).\n",
    "        \"\"\", lang = \"en\")\n",
    "        \n",
    "    class HotelRoom(tao_solo.Room):\n",
    "        ### partially defined in the base owl file for the ontology\n",
    "        label = [locstr(\"Hotel room\", lang = \"en\")]\n",
    "        comment = locstr(\"\"\"A hotel room is a single room in a hotel.\"\"\", lang = \"en\")\n",
    "        seeAlso = [ schema.HotelRoom, acco.HotelRoom]\n",
    "        \n",
    "    class MeetingRoom(tao_solo.Room, acco.MeetingRoom):\n",
    "        label = [locstr(\"Meeting room\", lang = \"en\")]\n",
    "        comment = locstr(\"\"\"A meeting room, conference room, or conference hall is a room provided for singular events such as business conferences and meetings\n",
    "        (Source: Wikipedia, the free encyclopedia, see http://en.wikipedia.org/wiki/Conference_hall).\"\"\", lang = \"en\")\n",
    "        seeAlso = [ schema.MeetingRoom, create_external_resource(\"Conference_hall\", dbr)]\n",
    "    \n",
    "    class Suite(tao_solo.Accommodation):\n",
    "        label = [locstr(\"Suite\", lang = \"en\")]\n",
    "        altLabel = [locstr(\"Guest suite\", lang = \"en\")]\n",
    "        comment = locstr(\"\"\"A suite in a hotel or other public accommodation, denotes a class of luxury accommodations, the key feature of which is multiple rooms.\n",
    "        (Source: Wikipedia, the free encyclopedia, see http://en.wikipedia.org/wiki/Suite_(hotel)) \"\"\", lang = \"en\")\n",
    "        seeAlso = [ schema.Suite, acco.Suite, create_external_resource(\"Suite_(hotel)\", dbr)]\n",
    "    \n",
    "    class EntirePlace(tao_solo.Accommodation):\n",
    "        label = [locstr(\"Entire palce\", lang = \"en\")]\n",
    "        comment = locstr(\"\"\"An accommodation which comprises an entire generic lodging facility.\"\"\", lang = \"en\")\n",
    "    \n",
    "    class EntireBoat(tao_solo.EntirePlace):\n",
    "        label = [locstr(\"Entire boat\", lang = \"en\")]\n",
    "        comment = locstr(\"\"\"An entire boat used as an accommodation.\"\"\", lang = \"en\")\n",
    "    \n",
    "    class EntireLoft(tao_solo.EntirePlace):\n",
    "        label = [locstr(\"Entire loft\", lang = \"en\")]\n",
    "        comment = locstr(\"\"\"An entire loft used as an accommodation.\"\"\", lang = \"en\")\n",
    "    \n",
    "    class EntireHouse(tao_solo.EntirePlace):\n",
    "        pass ## defined in the base owl file for the ontology\n",
    "     \n",
    "    class EntireApartment(tao_solo.EntirePlace):\n",
    "        pass ## defined in the base owl file for the ontology\n",
    " \n",
    "    class CampingPitch(tao_solo.Accommodation):\n",
    "        pass ## defined in the base owl file for the ontology"
   ]
  },
  {
   "cell_type": "markdown",
   "id": "7ed62ebb-8604-4cc0-9b36-0049fc055723",
   "metadata": {},
   "source": [
    "# Accommodation Amenities"
   ]
  },
  {
   "cell_type": "code",
   "execution_count": 23,
   "id": "94173259",
   "metadata": {},
   "outputs": [],
   "source": [
    "with tao_solo:\n",
    "    class LocationAmenity(Thing):\n",
    "        label = locstr(\"Location amenity\", lang = \"en\")\n",
    "        altLabel = [\n",
    "            locstr(\"Accommodation amenity\", lang = \"en\"),\n",
    "            locstr(\"Lodging amenity\", lang = \"en\")]\n",
    "        comment = locstr(\"\"\"In property and land use planning, amenity (lat. amoenitās “pleasantness, delightfulness”) is something considered to benefit a location, contribute to its enjoyment, and thereby increase its value.\n",
    "        (Source Wikipedia, see https://en.wikipedia.org/wiki/Amenity) \"\"\", lang = \"en\")\n",
    "        equivalent_to = [acco.AccommodationFeature]\n",
    "        seeAlso = [create_external_resource(\"Amenity\", dbr)]\n",
    "    \n",
    "    class Bathroom(tao_solo.LocationAmenity):\n",
    "        label = [locstr(\"Bathroom\", lang = \"en\")] + ho.Bathroom.label ## Enrich Bathroom with multilang labels from Hospitality \n",
    "        altLabel = [\n",
    "            locstr(\"Bath\", lang = \"en\")]\n",
    "        comment = locstr(\"\"\"A bathroom or washroom is a room, typically in a home or other residential building, that contains either a bathtub or a shower (or both).\n",
    "        (Source Wikipedia, see https://en.wikipedia.org/wiki/Bathroom) \"\"\", lang = \"en\")\n",
    "        seeAlso = [create_external_resource(\"Bathroom\", dbr)]\n",
    "    \n",
    "    class Service(tao_solo.LocationAmenity):\n",
    "        label = locstr(\"Service\", lang = \"en\")\n",
    "        comment = locstr(\"\"\"A service is a transaction in which no physical goods are transferred from the seller to the buyer.\n",
    "        (Source Wikipedia, see https://en.wikipedia.org/wiki/Service_(economics)) \"\"\", lang = \"en\")\n",
    "        seeAlso = [create_external_resource(\"Service_(economics)\", dbr)]\n",
    "    \n",
    "    class Accessibility(tao_solo.LocationAmenity):\n",
    "        label = locstr(\"Accessibility\", lang = \"en\")\n",
    "\n",
    "    class SafetyAndSecurity(tao_solo.LocationAmenity):\n",
    "        label = locstr(\"Safety and security\", lang = \"en\")\n",
    "        \n",
    "    class BathroomAmenity(tao_solo.LocationAmenity):\n",
    "        label = locstr(\"Bathroom amenity\", lang = \"en\")\n",
    "    \n",
    "    class AmenityArea(tao_solo.LocationAmenity, schema.Place):\n",
    "        label = label = locstr(\"Amenity area\", lang = \"en\")\n",
    "        comment = locstr(\"\"\"AMENITY AREA means an area or areas intended for use for recreation or aesthetic purposes within the boundaries of a lot and may include landscaped open space areas, patios, balconies, communal lounges, swimming pools, recreation facilities, and any other area which may be used for recreational or aesthetic purposes, but does not include any driveways or parking area.\n",
    "        (Source Law Insider, see https://www.lawinsider.com/dictionary/amenity-area\"\"\")\n",
    "    \n",
    "    class ChangingRoom(tao_solo.AmenityArea):\n",
    "        label = label = locstr(\"Changing room\", lang = \"en\")  \n",
    "        altLabel = [\n",
    "            locstr(\"Dressing room\", lang = \"en\"),\n",
    "            locstr(\"Locker room\", lang = \"en\")]\n",
    "        comment = locstr(\"\"\"A changing room, locker room, dressing room (usually in a sports, theater or staff context) or changeroom (regional use) is a room or area designated for changing one's clothes. Changing rooms are provided in a semi-public situation to enable people to change clothes with varying degrees of privacy.\n",
    "        (Source Wikipedia, see https://en.wikipedia.org/wiki/Changing_room)\"\"\")\n",
    "        seeAlso = [ create_external_resource(\"Changing_room\", dbr)]\n",
    "        \n",
    "    class Equipment(tao_solo.LocationAmenity):\n",
    "        label = label = locstr(\"Equipment\", lang = \"en\")\n",
    "        comment = locstr(\"\"\"Equipment most commonly refers to a set of tools or other objects commonly used to achieve a particular objective. Different jobs require different kinds of equipment.\n",
    "        (Source Wikipedia, see https://en.wikipedia.org/wiki/Equipment\"\"\")\n",
    "        seeAlso = [ create_external_resource(\"Equipment\", dbr)]\n",
    "    \n",
    "            \n",
    "    class CookingEquipment(tao_solo.Equipment):\n",
    "        label = locstr(\"Cooking equipment\", lang = \"en\")\n",
    "        \n",
    "    class FoodAndDrinks(tao_solo.LocationAmenity):\n",
    "        label = locstr(\"Food and drinks\", lang = \"en\")        \n",
    "        \n",
    "    class HomeAppliance(tao_solo.Equipment):\n",
    "        label = locstr(\"Home appliance\", lang = \"en\")\n",
    "        comment = locstr(\"\"\"A home appliance, also referred to as a domestic appliance, an electric appliance or a household appliance,[1] is a machine which assists in household functions[2] such as cooking, cleaning and food preservation.\n",
    "        (Source Wikipedia, see https://en.wikipedia.org/wiki/Equipment)\"\"\")\n",
    "        seeAlso = [ create_external_resource(\"Home_appliance\", dbr)]\n",
    "    \n",
    "    class ChildCare(tao_solo.LocationAmenity):\n",
    "        label = label = locstr(\"Child care\", lang = \"en\")\n",
    "        comment = locstr(\"\"\"Child care, otherwise known as day care, is the care and supervision of a child or multiple children at a time, whose ages range from two weeks to eighteen years. \n",
    "        (Source Wikipedia, see https://en.wikipedia.org/wiki/Child_care)\"\"\")\n",
    "        seeAlso = [ create_external_resource(\"Child_care\", dbr)]\n",
    "\n",
    "    class Furniture(tao_solo.LocationAmenity):\n",
    "        label = label = locstr(\"Furniture\", lang = \"en\")\n",
    "        comment = locstr(\"\"\"Furniture refers to movable objects intended to support various human activities such as seating (e.g., Stools, Chairs, and sofas), eating (tables), storing items, eating and/or working with an item, and sleeping (e.g., beds and hammocks). \n",
    "        (Source Wikipedia, see https://en.wikipedia.org/wiki/Furniture)\"\"\")\n",
    "        seeAlso = [ create_external_resource(\"Furniture\", dbr)]        \n",
    "\n",
    "        \n",
    "    class GameEquipment(tao_solo.Equipment):\n",
    "        label = locstr(\"Game\", lang = \"en\")\n",
    "        altLabel = locstr(\"Game equipment\", lang = \"en\")\n",
    "        comment = locstr(\"\"\"A game is a structured form of play, usually undertaken for entertainment or fun, and sometimes used as an educational tool.\n",
    "        (Source Wikipedia, see https://en.wikipedia.org/wiki/Game\"\"\")\n",
    "        seeAlso = [ create_external_resource(\"Game\", dbr)]\n",
    "    \n",
    "    class CommonArea(tao_solo.AmenityArea, schema.Place):\n",
    "        label = label = locstr(\"Common area\", lang = \"en\")\n",
    "        comment = locstr(\"\"\"A common area is, in real estate or real property law, the \"area which is available for use by more than one person.\n",
    "        (Source Wikipedia, see https://en.wikipedia.org/wiki/Common_area)\"\"\")\n",
    "        seeAlso = [ create_external_resource(\"Common_area\", dbr)]\n",
    "        \n",
    "    \n",
    "    #class CommonAmenity(tao_solo.LocationAmenity):\n",
    "    #    label = locstr(\"Common feature\", lang = \"en\")\n",
    "    #    altLabel = locstr(\"Common amenity\", lang = \"en\")\n",
    "    #    comment = locstr(\"\"\"Common Amenities/features means those facilities, common areas, and services in the Building and/or Property available for use by, or supplied to the tenants on a non-exclusive basis and include interalia lifts, air-conditioning, security services, common areas, visitor’s parking and such like.\n",
    "    #    (Source Law Insider, see https://www.lawinsider.com/dictionary/common-amenities) \"\"\", lang = \"en\")\n",
    "        \n",
    "    class HotTub(tao_solo.CommonArea):\n",
    "        label = [locstr(\"Hot tub\", lang = \"en\")] + ho.HydromassageJacuzzi.label + ho.ExteriorJacuzzi.label ## Enrich HotTub with multilang labels from Hospitality \n",
    "        altLabel = [locstr(\"Jacuzzi\", lang = \"en\"), locstr(\"Hydromassage Jacuzzi\", lang = \"en\")]\n",
    "        comment = locstr(\"\"\"A hot tub is a large tub full of water used for hydrotherapy, relaxation or pleasure. Some have powerful jets for massage purposes. Hot tubs are sometimes also known as \"spas\" or by the trade name Jacuzzi.\n",
    "        (Source Wikipedia, see https://en.wikipedia.org/wiki/Hot_tub) \"\"\", lang = \"en\")\n",
    "        seeAlso = [ create_external_resource(\"Hot_tub\", dbr)]      \n",
    "   \n",
    "    class ShoeShiner(tao_solo.Service):\n",
    "        label = [locstr(\"ShoeShiner\", lang = \"en\")] + ho.ShoeShine.label ## Enrich ShoeShiner with multilang labels from Hospitality \n",
    "        altLabel = [locstr(\"ShoeShine\", lang = \"en\")]\n",
    "        comment = locstr(\"\"\"Shoeshiner or boot polisher is an occupation in which a person cleans and buffs shoes and then applies a waxy paste to give a shiny appearance and a protective coating.\n",
    "        (Source Wikipedia, see https://en.wikipedia.org/wiki/ShoeShiner) \"\"\", lang = \"en\")\n",
    "        seeAlso = [ create_external_resource(\"ShoeShiner\", dbr)]\n",
    "\n",
    "    class HeatingSystem(tao_solo.HomeAppliance):\n",
    "        label = [locstr(\"Heating System\", lang = \"en\")] + ho.HeatingSystem.label ## Enrich HeatingSystem with multilang labels from Hospitality \n",
    "        comment = locstr(\"\"\"A heating system is a mechanism for maintaining temperatures at an acceptable level; by using thermal energy within a home, office, or other dwelling.\n",
    "        (Source Wikipedia, see https://en.wikipedia.org/wiki/Heating_system) \"\"\", lang = \"en\")\n",
    "        seeAlso = [ create_external_resource(\"Heating_system\", dbr)]\n",
    "        \n",
    "        \n",
    "    class PublicToilet(tao_solo.CommonArea):\n",
    "        label = locstr(\"Public toilet\", lang = \"en\")\n",
    "        comment = locstr(\"\"\"A public toilet is a room or small building with toilets (or urinals) and sinks for use by the general public. \n",
    "        The facilities are available to customers, travelers, employees of a business, school pupils and prisoners and are commonly separated into male and female toilets, although some are unisex, especially for small or single-occupancy public toilets.\n",
    "        (Source Wikipedia, see https://en.wikipedia.org/wiki/Public_toilet)\"\"\")\n",
    "        seeAlso = [ create_external_resource(\"Public_toilet\", dbr)]\n",
    "        equivalent_to = tao_builder.acco_feature_equivalent_class(\"Toilet\")       \n",
    "    \n",
    "    class GolfCourse(tao_solo.CommonArea):\n",
    "        altLabel = locstr(\"Golf courses\", lang = \"en\") ## main label already imported from Schema.org\n",
    "        comment = locstr(\"\"\"A golf course is the grounds where the sport of golf is played.\n",
    "        (Source Wikipedia, see https://en.wikipedia.org/wiki/Golf_course)\"\"\")\n",
    "        seeAlso = [ create_external_resource(\"Golf_course\", dbr)]\n",
    "        equivalent_to = tao_builder.acco_feature_equivalent_class(\"Golf\")\n",
    "\n",
    "    class Gym(tao_solo.CommonArea):\n",
    "        label = [locstr(\"Gym\", lang = \"en\")] +  ho.Gym.label ## Enrich Gym imported with multilang labels from Hospitality\n",
    "        comment = locstr(\"\"\"A gymnasium, also known as a gym, is a covered location for athletics. The word is derived from the ancient Greek gymnasium.\n",
    "        (Source Wikipedia, see https://en.wikipedia.org/wiki/Gym)\"\"\")\n",
    "        seeAlso = [ create_external_resource(\"Gym\", dbr)]\n",
    "        equivalent_to = tao_builder.acco_feature_equivalent_class(\"Gym\")\n",
    "    \n",
    "    class DaySpa(tao_solo.CommonArea):\n",
    "        label = (tao_solo.DaySpa.label + ho.SpaCentre.label)[:-1] ## Enrich DaySpa imported from Schema.org add multilang labels from Hospitality but remove wrong label \"WellnessCentre\"\n",
    "        altLabel = locstr(\"Spa center\", lang = \"en\")\n",
    "        comment = locstr(\"\"\"A day spa is a business that provides a variety of services for the purpose of improving health, beauty and relaxation through personal care treatments such as hair, massages and facials. \n",
    "        A day spa is different from a beauty salon in that it contains facilities such as a sauna, pool, steam room, or whirlpool that guests may use in addition to their treatment.\n",
    "        (Source Wikipedia, see https://en.wikipedia.org/wiki/Day_spa)\"\"\")\n",
    "        seeAlso = [ create_external_resource(\"Day_spa\", dbr)]\n",
    "        equivalent_to = tao_builder.acco_feature_equivalent_class(\"Spa\")\n",
    "    \n",
    "    class TurkishBath(tao_solo.CommonArea):\n",
    "        label = [locstr(\"Turkish bath\", lang = \"en\")] +  ho.TurkishBath.label ## Enrich TurkishBath imported with multilang labels from Hospitality\n",
    "        altLabel = locstr(\"Hammam\", lang = \"en\")\n",
    "        comment = locstr(\"\"\"A hammam (Arabic: حمّام, romanized: ḥammām, Turkish: hamam) is a type of steam bath or a place of public bathing associated with the Islamic world.\n",
    "        (Source Wikipedia, see https://en.wikipedia.org/wiki/Sauna)\"\"\")\n",
    "        seeAlso = [ create_external_resource(\"Hammam\", dbr)]\n",
    "        equivalent_to = tao_builder.acco_feature_equivalent_class(\"Turkish bath\")\n",
    "    \n",
    "    class Sauna(tao_solo.CommonArea):\n",
    "        label = [locstr(\"Sauna\", lang = \"en\")] +  ho.SpaCentre.label ## Enrich Sauna imported with multilang labels from Hospitality\n",
    "        comment = locstr(\"\"\"A sauna (/ˈsɔːnə, ˈsaʊnə/, Finnish: [ˈsɑu̯nɑ]), or sudatory, is a small room or building designed as a place to experience dry or wet heat sessions, or an establishment with one or more of these facilities. \n",
    "        (Source Wikipedia, see https://en.wikipedia.org/wiki/Sauna)\"\"\")\n",
    "        seeAlso = [ create_external_resource(\"Sauna\", dbr)]\n",
    "        equivalent_to = tao_builder.acco_feature_equivalent_class(\"Sauna\")\n",
    "    \n",
    "    class ParkingFacility(tao_solo.CommonArea):\n",
    "        label = (tao_solo.ParkingFacility.label + ho.Parking.label) ## Enrich ParkingFacility imported from Schema.org add multilang labels from Hospitality \n",
    "        altLabel = locstr(\"Parking\", lang = \"en\")\n",
    "        equivalent_to = tao_builder.acco_feature_equivalent_class(\"Parking\")        \n",
    "    \n",
    "    class Restaurant(tao_solo.CommonArea):\n",
    "        label = (tao_solo.Restaurant.label + ho.Restaurant.label)[:-1] ## Enrich Restaurant imported from Schema.org add multilang labels from Hospitality but remove wrong label \"WellnessCentre\"\n",
    "        comment = locstr(\"\"\"A restaurant is a business that prepares and serves food and drinks to customers.\n",
    "        (Source Wikipedia, see https://en.wikipedia.org/wiki/Restaurant)\"\"\")\n",
    "        seeAlso = [ create_external_resource(\"Restaurant\", dbr)]\n",
    "        equivalent_to = tao_builder.acco_feature_equivalent_class(\"Restaurant\")        \n",
    "\n",
    "    class SwimmingPool(tao_solo.AmenityArea):\n",
    "        label = [locstr(\"Swimming pool\", lang = \"en\")]\n",
    "        comment = \"\"\"A swimming pool, swimming bath, wading pool, paddling pool, or simply pool is a structure designed to hold water to enable swimming or other leisure activities \n",
    "        (Source Wikipedia: https://en.wikipedia.org/wiki/Swimming_pool\"\"\"\n",
    "        altLabel = locstr(\"pool\", lang = \"en\")\n",
    "        seeAlso = [ create_external_resource(\"Swimming_pool\", dbr)]\n",
    "        equivalent_to = tao_builder.acco_feature_equivalent_class(\"Swimming pool\")\n",
    "        \n",
    "    class FitnessService(tao_solo.Service):\n",
    "        label = locstr(\"Fitness service\", lang = \"en\")\n",
    "        comment = locstr(\"\"\"Fitness service means any service treatment, advice, diagnosis or instruction relating to physical fitness, including but not limited to diet, cardio-vascular fitness, body building or physical training programs and which you perform as or on behalf of the named insured.\n",
    "        (Source Law Insider, see https://www.lawinsider.com/dictionary/fitness-services)\"\"\")\n",
    "               \n",
    "    class KidsService(tao_solo.Service):\n",
    "        label = locstr(\"Kids service\", lang = \"en\")\n",
    "        altLabel = locstr(\"Service for kids\", lang = \"en\")\n",
    "        comment = locstr(\"\"\"Kids service referes to any service relating to kids care and activities.\"\"\")\n",
    "    \n",
    "    class HairCare(tao_solo.Service):\n",
    "        label = locstr(\"Hair care\", lang = \"en\")\n",
    "        comment = locstr(\"\"\"Hair care is an overall term for hygiene and cosmetology involving the hair.\n",
    "        (Source Wikipedia: https://en.wikipedia.org/wiki/Hair_care)\"\"\")\n",
    "        seeAlso = [ create_external_resource(\"Hair_care\", dbr)]\n",
    "        equivalent_to = tao_builder.acco_feature_equivalent_class(\"Hair care\")\n",
    "    \n",
    "    class AmusementService(tao_solo.Service):\n",
    "        label = locstr(\"Amusement service\", lang = \"en\")      \n",
    "        comment = locstr(\"\"\"Amusement services means the provision of amusement, entertainment, or recreation,.\n",
    "        (Source Law Insider, see https://www.lawinsider.com/dictionary/amusement-services)\"\"\")\n",
    " \n",
    "    class LaundryService(tao_solo.Service):\n",
    "        label = [locstr(\"Laundry Service\", lang = \"en\")] +  ho.LaundryService.label ## Enrich LaundryService imported with multilang labels from Hospitality\n",
    "\n",
    "    class SpokenLanguage(tao_solo.Service):\n",
    "        label = [locstr(\"Spoken language\", lang = \"en\")]"
   ]
  },
  {
   "cell_type": "code",
   "execution_count": 24,
   "id": "1600ebe1-5e01-436f-ab04-d3ffff8ad9f0",
   "metadata": {},
   "outputs": [
    {
     "data": {
      "text/plain": [
       "254"
      ]
     },
     "execution_count": 24,
     "metadata": {},
     "output_type": "execute_result"
    }
   ],
   "source": [
    "len(list(tao_ontology.classes()))"
   ]
  },
  {
   "cell_type": "markdown",
   "id": "82b53db0-5cc3-45ef-b8dd-e04005f646cb",
   "metadata": {},
   "source": [
    "### Import subbclasses of ho:RoomFacility as tao:LodgingFacility subclasses\n",
    "We now import from Hontology some classes useful to model accommodations."
   ]
  },
  {
   "cell_type": "code",
   "execution_count": 25,
   "id": "418673f5",
   "metadata": {
    "scrolled": true,
    "tags": []
   },
   "outputs": [],
   "source": [
    "disjoin_config = {\n",
    "    \"*\": [ #remove from disjoint Axioms in any case\n",
    "    ],\n",
    "    \"do_not_disjoin\": [ #remove from disjoint Axioms in special cases (use tuples to define which classes should neve be disjoint)\n",
    "    ]\n",
    "}\n",
    "exclude_classes = [ ho.Bed ]\n",
    "only_include_classes = [ho.Kettle]\n",
    "hontology_room_facility_classes = {}\n",
    "duplicate_class_hyerarchy(ho.RoomFacility, hontology_room_facility_classes, tao_solo.CookingEquipment, \n",
    "                          marshallers = [annotation_copier, labeller_by_class_name, provenance_annotator], \n",
    "                          exclude = exclude_classes, include = only_include_classes ,exclude_disjoint = disjoin_config, \n",
    "                          namespace = tao_solo, class_wrapper=tao_builder.acco_feature_class, disjoint=False)"
   ]
  },
  {
   "cell_type": "code",
   "execution_count": 26,
   "id": "de79e62e-8adf-4c17-be9f-813b30398841",
   "metadata": {
    "scrolled": true,
    "tags": []
   },
   "outputs": [],
   "source": [
    "disjoin_config = {\n",
    "    \"*\": [ #remove from disjoint Axioms in any case\n",
    "    ],\n",
    "    \"do_not_disjoin\": [ #remove from disjoint Axioms in special cases (use tuples to define which classes should neve be disjoint)\n",
    "    ]\n",
    "}\n",
    "exclude_classes = [ ho.Bed ]\n",
    "only_include_classes = [ho.Kitchen, ho.Terrace]\n",
    "hontology_room_facility_classes = {}\n",
    "duplicate_class_hyerarchy(ho.RoomFacility, hontology_room_facility_classes, tao_solo.AmenityArea, \n",
    "                          marshallers = [annotation_copier, labeller_by_class_name, provenance_annotator], \n",
    "                          exclude = exclude_classes, include = only_include_classes ,exclude_disjoint = disjoin_config, \n",
    "                          namespace = tao_solo, class_wrapper=tao_builder.acco_feature_class, disjoint=False)"
   ]
  },
  {
   "cell_type": "code",
   "execution_count": 27,
   "id": "550e475b-6978-4205-a35b-925484c6118e",
   "metadata": {
    "scrolled": true,
    "tags": []
   },
   "outputs": [],
   "source": [
    "disjoin_config = {\n",
    "    \"*\": [ #remove from disjoint Axioms in any case\n",
    "    ],\n",
    "    \"do_not_disjoin\": [ #remove from disjoint Axioms in special cases (use tuples to define which classes should neve be disjoint)\n",
    "    ]\n",
    "}\n",
    "exclude_classes = [ ho.Bed ]\n",
    "only_include_classes = [ho.AirConditioning, ho.Television, ho.Refrigerator, ho.CoffeeMachine, \n",
    "                        ho.Telephone, ho.Iron, ho.EletricKettle, ho.Lamp, ho.Phone, ho.Refrigerator]\n",
    "hontology_room_facility_classes = {}\n",
    "duplicate_class_hyerarchy(ho.RoomFacility, hontology_room_facility_classes, tao_solo.HomeAppliance, \n",
    "                          marshallers = [annotation_copier, labeller_by_class_name, provenance_annotator], \n",
    "                          exclude = exclude_classes, include = only_include_classes ,exclude_disjoint = disjoin_config, \n",
    "                          namespace = tao_solo, class_wrapper=tao_builder.acco_feature_class, disjoint=False)"
   ]
  },
  {
   "cell_type": "markdown",
   "id": "5ba91812-de88-43a5-a368-aeef4e4269c3",
   "metadata": {},
   "source": [
    "### Import subbclasses of ho:BathRoomFacility as tao:BathroomAmenity subclasses\n",
    "We now import from Hontology some classes useful to model amenities."
   ]
  },
  {
   "cell_type": "code",
   "execution_count": 28,
   "id": "4d147521-3b06-4ce0-b34e-c7a1d668d2e4",
   "metadata": {},
   "outputs": [],
   "source": [
    "disjoin_config = {\n",
    "    \"*\": [ #remove from disjoint Axioms in any case\n",
    "    ],\n",
    "    \"do_not_disjoin\": [ #remove from disjoint Axioms in special cases (use tuples to define which classes should neve be disjoint)\n",
    "    ]\n",
    "}\n",
    "hontology_bathroom_facility_classes = {}\n",
    "duplicate_class_hyerarchy(ho.BathRoomFacility, hontology_room_facility_classes, tao_solo.BathroomAmenity, \n",
    "                          marshallers = [annotation_copier, labeller_by_class_name, provenance_annotator], \n",
    "                          exclude_disjoint = disjoin_config, \n",
    "                          namespace = tao_solo, class_wrapper=tao_builder.acco_feature_class, disjoint=False)"
   ]
  },
  {
   "cell_type": "markdown",
   "id": "c023a1fb-6379-4c6f-b9b8-5621c86c1668",
   "metadata": {},
   "source": [
    "### Import subbclasses of ho:InternalFacility as tao:CommonArea subclasses\n",
    "We now import from Hontology some classes useful to model amenities."
   ]
  },
  {
   "cell_type": "code",
   "execution_count": 29,
   "id": "289e6947-a0b1-4301-8ffe-b053084a0479",
   "metadata": {},
   "outputs": [],
   "source": [
    "disjoin_config = {\n",
    "    \"*\": [ #remove from disjoint Axioms in any case\n",
    "    ],\n",
    "    \"do_not_disjoin\": [ #remove from disjoint Axioms in special cases (use tuples to define which classes should neve be disjoint)\n",
    "    ]\n",
    "}\n",
    "exclude_classes = [ho.Bathroom, ho.Cot, ho.Elevator, ho.Hairdresser, ho.HeatingSystem, ho.IndoorSwimmingPool, ho.InternetAccess,\n",
    "                   ho.KidsClub, ho.LaundryService, ho.LaundryRoom, ho.Meeting, ho.Parking, ho.Restaurant, ho.ShoeShine,\n",
    "                   ho.SpaCentre]\n",
    "hontology_internal_facility_to_common_area_classes = {}\n",
    "duplicate_class_hyerarchy(ho.InternalFacility, hontology_internal_facility_to_common_area_classes, tao_solo.CommonArea, \n",
    "                          marshallers = [annotation_copier, labeller_by_class_name, provenance_annotator], \n",
    "                          exclude = exclude_classes, exclude_disjoint = disjoin_config, \n",
    "                          namespace = tao_solo, class_wrapper=tao_builder.acco_feature_class, disjoint=False)"
   ]
  },
  {
   "cell_type": "markdown",
   "id": "654e9a7c-2c5e-4271-bf7d-5c148a7e748f",
   "metadata": {},
   "source": [
    "### Import subbclasses of ho:ExternalFacility as tao:CommonArea subclasses\n",
    "We now import from Hontology some classes useful to model amenities."
   ]
  },
  {
   "cell_type": "code",
   "execution_count": 30,
   "id": "e0fdf1bc-5c5d-4d45-ac4c-d4d9da8a7581",
   "metadata": {},
   "outputs": [],
   "source": [
    "disjoin_config = {\n",
    "    \"*\": [ #remove from disjoint Axioms in any case\n",
    "    ],\n",
    "    \"do_not_disjoin\": [ #remove from disjoint Axioms in special cases (use tuples to define which classes should neve be disjoint)\n",
    "    ]\n",
    "}\n",
    "exclude_classes = [ho.ExteriorJacuzzi, ho.Golf, ho.InternetAccess, ho.OutdoorSwimmingPool, ho.Parking, ho.Square]\n",
    "hontology_internal_facility_to_common_area_classes = {}\n",
    "duplicate_class_hyerarchy(ho.ExternalFacility, hontology_internal_facility_to_common_area_classes, tao_solo.CommonArea, \n",
    "                          marshallers = [annotation_copier, labeller_by_class_name, provenance_annotator], \n",
    "                          exclude = exclude_classes, exclude_disjoint = disjoin_config, \n",
    "                          namespace = tao_solo, class_wrapper=tao_builder.acco_feature_class, disjoint=False)"
   ]
  },
  {
   "cell_type": "markdown",
   "id": "9f636c2f-dadc-4da3-bdc8-382378d98e54",
   "metadata": {},
   "source": [
    "### Import subbclasses of ho:Service as tao:Service subclasses\n",
    "We now import from Hontology some classes useful to model amenities."
   ]
  },
  {
   "cell_type": "code",
   "execution_count": 31,
   "id": "cd319237-56d5-4bb8-9b2f-e76d981b6b55",
   "metadata": {},
   "outputs": [],
   "source": [
    "disjoin_config = {\n",
    "    \"*\": [ #remove from disjoint Axioms in any case\n",
    "    ],\n",
    "    \"do_not_disjoin\": [ #remove from disjoint Axioms in special cases (use tuples to define which classes should neve be disjoint)\n",
    "    ]\n",
    "}\n",
    "exclude_classes = [ho.HoneymoonSuite, ho[\"Guest-chosenDailyNewspaperDelivery\"]]\n",
    "hontology_service_classes = {}\n",
    "duplicate_class_hyerarchy(ho.Service, hontology_service_classes, tao_solo.Service, \n",
    "                          marshallers = [annotation_copier, labeller_by_class_name, provenance_annotator], \n",
    "                          exclude = exclude_classes, exclude_disjoint = disjoin_config, \n",
    "                          namespace = tao_solo, class_wrapper=tao_builder.acco_feature_class, disjoint=False)"
   ]
  },
  {
   "cell_type": "markdown",
   "id": "02c4b402-422c-4eed-a33c-a146240e41e3",
   "metadata": {},
   "source": [
    "## Save all classes created so far as a csv file"
   ]
  },
  {
   "cell_type": "code",
   "execution_count": 32,
   "id": "ae63df05-dd85-4934-832e-1d08df0aa1fd",
   "metadata": {
    "tags": []
   },
   "outputs": [],
   "source": [
    "classes_df = generate_class_hierarchy(tao_solo)"
   ]
  },
  {
   "cell_type": "code",
   "execution_count": 33,
   "id": "a4760ea8-fa12-4d11-9dca-6c335c0bae29",
   "metadata": {
    "tags": []
   },
   "outputs": [],
   "source": [
    "classes_df.to_csv(\"class_mapping/location_amenities_base_classes.csv\", index = False)"
   ]
  },
  {
   "cell_type": "markdown",
   "id": "322de033",
   "metadata": {},
   "source": [
    "## Enrich with text analysis"
   ]
  },
  {
   "cell_type": "markdown",
   "id": "0ad9ddab",
   "metadata": {},
   "source": [
    "#### AirBnB listings description most frequent words"
   ]
  },
  {
   "cell_type": "code",
   "execution_count": 34,
   "id": "d0fc8480",
   "metadata": {},
   "outputs": [],
   "source": [
    "df = pd.read_csv(\"./enrichment/airbnb_listing_sardinia_tf_ng_2_2_mm_8_mn_005_pos_20210414 - Most frequent entites.csv\")"
   ]
  },
  {
   "cell_type": "code",
   "execution_count": 35,
   "id": "65ad8176",
   "metadata": {},
   "outputs": [],
   "source": [
    "df = df[df['selected'] == 'yes'].fillna(\"\")"
   ]
  },
  {
   "cell_type": "code",
   "execution_count": 36,
   "id": "fdb2a2e5",
   "metadata": {
    "scrolled": true
   },
   "outputs": [],
   "source": [
    "dummy = df.apply(lambda r: tao_builder.process_entity(tao_solo, r['entity'],r['parent_class'],r['class'], r['type'], r['is_amenity'], provenance = \"AirBnB listings word frequency analysis\", comment_text = \"Enriched with AirBnB listings word frequency analysis\"), axis=1)"
   ]
  },
  {
   "cell_type": "markdown",
   "id": "cffc0551",
   "metadata": {},
   "source": [
    "#### AirBnB listings description most frequent digrams"
   ]
  },
  {
   "cell_type": "code",
   "execution_count": 37,
   "id": "d91928dc",
   "metadata": {},
   "outputs": [],
   "source": [
    "df = pd.read_csv(\"./enrichment/airbnb_listing_sardinia_tf_ng_2_2_mm_8_mn_005_pos_20210414 - digram entities.csv\")"
   ]
  },
  {
   "cell_type": "code",
   "execution_count": 38,
   "id": "dae51e04",
   "metadata": {
    "tags": []
   },
   "outputs": [],
   "source": [
    "df = df[df['selected'] == 'yes'].fillna(\"\")"
   ]
  },
  {
   "cell_type": "code",
   "execution_count": 39,
   "id": "93f21d44",
   "metadata": {
    "scrolled": true
   },
   "outputs": [],
   "source": [
    "dummy = df.apply(lambda r: tao_builder.process_entity([tao_solo, acco], r['entity'],r['parent_class'],r['class'], r['type'], r['is_amenity']\n",
    "                                 ,provenance = \"AirBnB listings digram frequency analysis\", comment_text = \"Enriched with AirBnB listings word frequency analysis\"), axis=1)"
   ]
  },
  {
   "cell_type": "markdown",
   "id": "c7bf03fd",
   "metadata": {},
   "source": [
    "#### Booking.com features lists"
   ]
  },
  {
   "cell_type": "code",
   "execution_count": 40,
   "id": "a8cae45c",
   "metadata": {},
   "outputs": [],
   "source": [
    "df = pd.read_csv(\"./enrichment/booking_facilities_and_airbnb_amenities - booking_facilities.csv\")"
   ]
  },
  {
   "cell_type": "code",
   "execution_count": 41,
   "id": "473c79ec",
   "metadata": {},
   "outputs": [],
   "source": [
    "df = df[df['selected'] == 'yes'].fillna(\"\")"
   ]
  },
  {
   "cell_type": "code",
   "execution_count": 42,
   "id": "f4a2d613",
   "metadata": {
    "scrolled": true
   },
   "outputs": [],
   "source": [
    "dummy = df.apply(lambda r: tao_builder.process_entity([tao_solo, acco], r['entity'],r['parent_class'],r['class'], r['type'], r['is_amenity']\n",
    "                                 ,provenance = \"Booking.com features lists extraction.\", comment_text = \"Enriched Booking.com features lists extraction\"), axis=1)"
   ]
  },
  {
   "cell_type": "code",
   "execution_count": 43,
   "id": "c9c512be",
   "metadata": {},
   "outputs": [],
   "source": [
    "df = pd.read_csv(\"./enrichment/booking_facilities_and_airbnb_amenities - airbnb_amenities.csv\")"
   ]
  },
  {
   "cell_type": "code",
   "execution_count": 44,
   "id": "a18bdb98",
   "metadata": {},
   "outputs": [],
   "source": [
    "df = df[df['selected'] == 'yes'].fillna(\"\")"
   ]
  },
  {
   "cell_type": "code",
   "execution_count": 45,
   "id": "56aae9ff",
   "metadata": {
    "scrolled": true
   },
   "outputs": [],
   "source": [
    "dummy = df.apply(lambda r: tao_builder.process_entity(tao_solo, r['entity'],r['parent_class'],r['class'], r['type'], r['is_amenity']\n",
    "                                 ,provenance = \"AirBnB amenities lists extraction.\", comment_text = \"Enriched AirBnB amenities lists extraction\"), axis=1)"
   ]
  },
  {
   "cell_type": "markdown",
   "id": "edbb9db3-36b3-4b22-97de-b44fc7dd76ed",
   "metadata": {},
   "source": [
    "### Apply disjoint to Location Amenity"
   ]
  },
  {
   "cell_type": "code",
   "execution_count": 46,
   "id": "cde9754e-18f2-427d-8e54-d3c4955866cc",
   "metadata": {},
   "outputs": [],
   "source": [
    "exclude_from_exploration = [\n",
    "    tao_solo.HygieneProducts, ## BathroomAmenity\n",
    "    tao_solo.Toilet, ## BathroomAmenity\n",
    "    tao_solo.Television, ## Equipment\n",
    "    tao_solo.ClothingStorage, ## Furniture\n",
    "    tao_solo.Safe, ## SafetyAndSecurity\n",
    "    tao_solo.View, ## AmenityArea\n",
    "    tao_solo.Kitchen, ## AmenityArea\n",
    "    tao_solo.CommonArea, ## AmenityArea\n",
    "    tao_solo.CookingEquipment, ## Equipment\n",
    "    tao_solo.BeautyService, ## Service\n",
    "    tao_solo.DrycleaningService, ## Service\n",
    "    tao_solo.HairCare ## Service\n",
    "]\n",
    "\n",
    "disjoin_config = {\n",
    "    \"*\": [ #remove from disjoint Axioms in any case\n",
    "        tao_solo.CommonArea,\n",
    "        tao_solo.View\n",
    "    ],\n",
    "    \"do_not_disjoin\": [\n",
    "        (tao_solo.VendingMachineDrinks,tao_solo.VendingMachineSnacks), ## AmenityArea\n",
    "        (tao_solo.Veranda,tao_solo.Terrace), ## AmenityArea\n",
    "        (tao_solo.LivingArea,tao_solo.DiningArea, tao_solo.OutdoorDiningArea, tao_solo.MeetingBanquetFacilities), ## AmenityArea\n",
    "        (tao_solo.FreeToiletries,tao_solo.HygieneProducts), ## BathroomAmenity\n",
    "        (tao_solo.Sink,tao_solo.Tap), ## BathroomAmenity\n",
    "        (tao_solo.LiveMusic,tao_solo.LivePerformance), ## Service\n",
    "        (tao_solo.FitnessClasses,tao_solo.Aerobics, tao_solo.FullBodyMassage, tao_solo.PersonalTrainer), ## Service\n",
    "        (tao_solo.KeyAccess,tao_solo.KeyCardAccess, tao_solo.Keypad, tao_solo.SmartLock), ## SafetyAndSecurity\n",
    "        (tao_solo.DrycleaningService,tao_solo.LaundryService), ## Service\n",
    "    ]\n",
    "}\n",
    "disjoin_class_hyerarchy(tao_solo.ChildCare, namespace = tao_solo, exclude_disjoint = disjoin_config, exclude = exclude_from_exploration)\n",
    "disjoin_class_hyerarchy(tao_solo.AmenityArea, namespace = tao_solo, exclude_disjoint = disjoin_config, exclude = exclude_from_exploration)\n",
    "disjoin_class_hyerarchy(tao_solo.BathroomAmenity, namespace = tao_solo, exclude_disjoint = disjoin_config, exclude = exclude_from_exploration)\n",
    "disjoin_class_hyerarchy(tao_solo.ChildCare, namespace = tao_solo, exclude_disjoint = disjoin_config, exclude = exclude_from_exploration)\n",
    "disjoin_class_hyerarchy(tao_solo.Equipment, namespace = tao_solo, exclude_disjoint = disjoin_config, exclude = exclude_from_exploration)\n",
    "disjoin_class_hyerarchy(tao_solo.FoodAndDrinks, namespace = tao_solo, exclude_disjoint = disjoin_config, exclude = exclude_from_exploration)\n",
    "disjoin_class_hyerarchy(tao_solo.Furniture, namespace = tao_solo, exclude_disjoint = disjoin_config, exclude = exclude_from_exploration)\n",
    "disjoin_class_hyerarchy(tao_solo.SafetyAndSecurity, namespace = tao_solo, exclude_disjoint = disjoin_config, exclude = exclude_from_exploration)\n",
    "disjoin_class_hyerarchy(tao_solo.Service, namespace = tao_solo, exclude_disjoint = disjoin_config, exclude = exclude_from_exploration)\n",
    "#disjoin_class_hyerarchy(tao_solo.Accessibility, namespace = tao_solo, exclude_disjoint = disjoin_config, exclude = exclude_from_exploration)\n"
   ]
  },
  {
   "cell_type": "markdown",
   "id": "12b85904-81c7-4c00-bbee-55b06b2f5de4",
   "metadata": {},
   "source": [
    "## Save all classes created so far as a csv file"
   ]
  },
  {
   "cell_type": "code",
   "execution_count": 47,
   "id": "553a8aef-187a-444b-b94e-00eab072f96a",
   "metadata": {
    "tags": []
   },
   "outputs": [],
   "source": [
    "classes_df = generate_class_hierarchy(tao_solo)"
   ]
  },
  {
   "cell_type": "code",
   "execution_count": 48,
   "id": "56933b2a-f1cd-4e93-aa26-a08ce0527daf",
   "metadata": {
    "tags": []
   },
   "outputs": [],
   "source": [
    "classes_df.to_csv(\"class_mapping/location_amenities_enriched_classes.csv\", index = False)"
   ]
  },
  {
   "cell_type": "markdown",
   "id": "94591776-8b4a-4ee8-a467-92b2ddd96827",
   "metadata": {},
   "source": [
    "## Save ontology file output"
   ]
  },
  {
   "cell_type": "code",
   "execution_count": 49,
   "id": "c67fe3a4-47af-4171-819d-2769fb65a641",
   "metadata": {
    "tags": []
   },
   "outputs": [],
   "source": [
    "tao_ontology.save(file = \"output_ontology/tao.rdf\", format = \"rdfxml\")"
   ]
  }
 ],
 "metadata": {
  "interpreter": {
   "hash": "9e47ca972755996c4a148bf7727259498030c9e153e472b7c41c9aa0c8fbccdb"
  },
  "kernelspec": {
   "display_name": "Python 3.8.10 ('env': venv)",
   "language": "python",
   "name": "python3"
  },
  "language_info": {
   "codemirror_mode": {
    "name": "ipython",
    "version": 3
   },
   "file_extension": ".py",
   "mimetype": "text/x-python",
   "name": "python",
   "nbconvert_exporter": "python",
   "pygments_lexer": "ipython3",
   "version": "3.8.10"
  }
 },
 "nbformat": 4,
 "nbformat_minor": 5
}
